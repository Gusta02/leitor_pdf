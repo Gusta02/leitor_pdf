{
  "nbformat": 4,
  "nbformat_minor": 0,
  "metadata": {
    "colab": {
      "name": "leitor pdf.ipynb",
      "provenance": [],
      "authorship_tag": "ABX9TyO2fxBp9tgLh1mXAroirxj6",
      "include_colab_link": true
    },
    "kernelspec": {
      "name": "python3",
      "display_name": "Python 3"
    },
    "language_info": {
      "name": "python"
    }
  },
  "cells": [
    {
      "cell_type": "markdown",
      "metadata": {
        "id": "view-in-github",
        "colab_type": "text"
      },
      "source": [
        "<a href=\"https://colab.research.google.com/github/Gusta02/leitor_pdf/blob/main/leitor_pdf.ipynb\" target=\"_parent\"><img src=\"https://colab.research.google.com/assets/colab-badge.svg\" alt=\"Open In Colab\"/></a>"
      ]
    },
    {
      "cell_type": "markdown",
      "metadata": {
        "id": "X9u2Aru-2Qq0"
      },
      "source": [
        "Leitor de PDFs"
      ]
    },
    {
      "cell_type": "code",
      "metadata": {
        "colab": {
          "base_uri": "https://localhost:8080/"
        },
        "id": "FI3VPzwJHTJn",
        "outputId": "435ab9be-0d3d-47b1-a531-84a4668af585"
      },
      "source": [
        "# Bibliotecas\n",
        "import PyPDF2\n",
        "\n",
        "\n",
        "# PDF a ser Lido\n",
        "arquivo = r\"caminho do arquivo\"\n",
        "\n",
        "# Codigo Para ler o PDF\n",
        "lerPdf = PyPDF2.PdfFileReader(arquivo)\n",
        "\n",
        "# Numero da Pagina a ser lida\n",
        "pag = lerPdf.getPage(0)\n",
        "\n",
        "# Tag aonde será salvo o conteudo do PDF\n",
        "conteudo = pag.extractText()\n",
        "\n",
        "\n",
        "# Exibir o Conteudo Encontrado\n",
        "print(conteudo)\n",
        "  \n",
        "\n"
      ],
      "execution_count": 4,
      "outputs": [
        {
          "output_type": "stream",
          "name": "stdout",
          "text": [
            "T\n",
            "este\n",
            " \n",
            " \n",
            " \n",
            "Lendo o \n",
            "PDF....\n",
            " \n",
            " \n",
            " \n",
            "Leitu\n",
            "ra foi um s\n",
            "ucesso\n",
            " \n",
            "\n"
          ]
        }
      ]
    }
  ]
}